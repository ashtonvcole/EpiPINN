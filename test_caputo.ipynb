{
 "cells": [
  {
   "cell_type": "markdown",
   "id": "2d008082-9327-44ea-97a9-d784ee040847",
   "metadata": {},
   "source": [
    "# Test Caputo Integration\n",
    "\n",
    "## Import Statements"
   ]
  },
  {
   "cell_type": "code",
   "execution_count": 1,
   "id": "c2c028d1-53c3-4a0b-a067-5c2bd0453012",
   "metadata": {},
   "outputs": [],
   "source": [
    "from caputo import caputo_euler, naive_caputo_euler, caputo_l1_diff\n",
    "from matplotlib import pyplot as plt\n",
    "import numpy as np\n",
    "from scipy.special import gamma\n",
    "import time\n",
    "import torch"
   ]
  },
  {
   "cell_type": "markdown",
   "id": "f8b3fc85-bed7-4f7a-b2fb-7a05ab7c7dd1",
   "metadata": {},
   "source": [
    "## Constant Case\n",
    "\n",
    "Similar to an integer derivative, the Caputo derivative of a constant is zero.\n",
    "\n",
    "$\n",
    "\\begin{align*}\n",
    "_{t_{0}}^{\\mathrm{C}}\\mathrm{D}_{x}^{\\alpha}[c] &= 0\n",
    "\\end{align*}\n",
    "$"
   ]
  },
  {
   "cell_type": "code",
   "execution_count": null,
   "id": "feb8df66-cc7a-4b64-8ac8-73a4db093ac9",
   "metadata": {},
   "outputs": [],
   "source": [
    "# Test constant\n",
    "alpha = 0.5\n",
    "t0 = 0\n",
    "tf = 1\n",
    "num_step = 1000\n",
    "y0 = 1\n",
    "\n",
    "f = lambda t, y: 0\n",
    "\n",
    "start = time.time()\n",
    "ts, ys = caputo_euler(f, alpha, (t0, tf), num_step, y0)\n",
    "stop = time.time()\n",
    "print(f'Vectorized: {stop - start} sec')\n",
    "\n",
    "start = time.time()\n",
    "ts2, ys2 = naive_caputo_euler(f, alpha, (t0, tf), num_step, y0)\n",
    "stop = time.time()\n",
    "print(f'Naive: {stop - start} sec')"
   ]
  },
  {
   "cell_type": "code",
   "execution_count": null,
   "id": "9c60ac3c-5c4e-43b3-a3ed-fe35116a5641",
   "metadata": {},
   "outputs": [],
   "source": [
    "fig, ax = plt.subplots()\n",
    "ax.plot(ts, y0 * np.ones(ts.size), label='exact')\n",
    "ax.plot(ts, ys, label='numerical')\n",
    "ax.plot(ts2, ys2, label='naive numerical', ls='--')\n",
    "ax.legend()"
   ]
  },
  {
   "cell_type": "code",
   "execution_count": null,
   "id": "2a2c43c2-9a49-44df-bbf0-2c12534e4ea6",
   "metadata": {},
   "outputs": [],
   "source": [
    "# Now derivative\n",
    "fps = caputo_l1_diff(ys, alpha, dt=((tf - t0) / num_step))\n",
    "fig, ax = plt.subplots()\n",
    "ax.plot(ts, np.vectorize(f)(ts, ys), label='exact')\n",
    "ax.plot(ts, fps, label='numerical')\n",
    "ax.legend()"
   ]
  },
  {
   "cell_type": "markdown",
   "id": "409ff948-609b-4a5b-99b8-da9e31ff3460",
   "metadata": {},
   "source": [
    "## Polynomial Case\n",
    "\n",
    "For $\\lceil \\alpha \\rceil - 1 < b$,\n",
    "\n",
    "$\n",
    "\\begin{align*}\n",
    "_{t_{0}}^{\\mathrm{C}}\\mathrm{D}_{x}^{\\alpha}[x^{b}] &=\n",
    "\\frac{\\Gamma(b + 1)}{\\Gamma(b - \\alpha + 1)} (x^{b - \\alpha} - t_{0}^{b - \\alpha})\n",
    "\\end{align*}\n",
    "$\n",
    "\n",
    "Error convergence is done which confirms that the Caputo-Euler scheme is $\\alpha$-order accurate."
   ]
  },
  {
   "cell_type": "code",
   "execution_count": null,
   "id": "4ab7a40a-9e02-460f-90be-1f8224725700",
   "metadata": {},
   "outputs": [],
   "source": [
    "# Test power of a function\n",
    "alpha = 0.6\n",
    "b = 3\n",
    "t0 = 0\n",
    "tf = 1\n",
    "num_step = 1000\n",
    "y0 = 0\n",
    "\n",
    "f = lambda t, y, alpha=alpha, b=b: gamma(b + 1) / gamma(b - alpha + 1) * (t ** (b - alpha) - t0 ** (b - alpha))\n",
    "\n",
    "start = time.time()\n",
    "ts, ys = caputo_euler(f, alpha, (t0, tf), num_step, y0)\n",
    "stop = time.time()\n",
    "print(f'Vectorized: {stop - start} sec')\n",
    "\n",
    "start = time.time()\n",
    "ts2, ys2 = naive_caputo_euler(f, alpha, (t0, tf), num_step, y0)\n",
    "stop = time.time()\n",
    "print(f'Naive: {stop - start} sec')"
   ]
  },
  {
   "cell_type": "code",
   "execution_count": null,
   "id": "769184e1-7385-47bb-8542-3cb27a5aa5a3",
   "metadata": {},
   "outputs": [],
   "source": [
    "fig, ax = plt.subplots()\n",
    "ax.plot(ts, ts ** b, label='exact')\n",
    "ax.plot(ts, ys, label='numerical')\n",
    "ax.plot(ts2, ys2, label='naive numerical', ls='--')\n",
    "ax.legend()"
   ]
  },
  {
   "cell_type": "code",
   "execution_count": null,
   "id": "6a34ecf4-087a-440d-aa96-f553b536d14d",
   "metadata": {},
   "outputs": [],
   "source": [
    "# Now derivative\n",
    "fps = caputo_l1_diff(ys, alpha, dt=0.001)\n",
    "fig, ax = plt.subplots()\n",
    "ax.plot(ts, np.vectorize(f)(ts, ys), label='exact')\n",
    "ax.plot(ts, fps, label='numerical', ls='--')\n",
    "ax.legend()"
   ]
  },
  {
   "cell_type": "code",
   "execution_count": null,
   "id": "17c603cf-989d-4236-b4aa-fd2afb54397d",
   "metadata": {},
   "outputs": [],
   "source": [
    "# Error convergence study\n",
    "alpha = 0.5\n",
    "b = 3\n",
    "t0 = 0\n",
    "tf = 1\n",
    "num_steps = [500, 1000, 2000, 4000, 8000]\n",
    "errs = []\n",
    "y0 = 0\n",
    "\n",
    "f = lambda t, y, alpha=alpha, b=b: gamma(b + 1) / gamma(b - alpha + 1) * (t ** (b - alpha) - t0 ** (b - alpha))\n",
    "\n",
    "for num_step in num_steps:\n",
    "    ts, ys = caputo_euler(f, alpha, (t0, tf), num_step, y0)\n",
    "    errs.append(abs(ys[-1] - 1))"
   ]
  },
  {
   "cell_type": "code",
   "execution_count": null,
   "id": "5cf4d5a9-522d-4ffa-8572-b75adfc02ed9",
   "metadata": {},
   "outputs": [],
   "source": [
    "fig, ax = plt.subplots()\n",
    "ns = np.linspace(1000, 5000, 11)\n",
    "ax.loglog(num_steps, errs, label='error')\n",
    "ax.loglog(ns, [1.8 / n ** alpha for n in ns], label='O(h ^ alpha)')\n",
    "ax.loglog(ns, [50 / n for n in ns], label='O(h)')\n",
    "ax.set_xlabel('1 / h')\n",
    "ax.set_ylabel('error')\n",
    "ax.legend()"
   ]
  },
  {
   "cell_type": "markdown",
   "id": "87c6986e-0078-4d04-8c2f-8764a249e5b0",
   "metadata": {},
   "source": [
    "## SEIRD Model Case"
   ]
  },
  {
   "cell_type": "code",
   "execution_count": 13,
   "id": "522851fd-54cc-49bf-abec-7e2cd549d720",
   "metadata": {
    "scrolled": true
   },
   "outputs": [
    {
     "name": "stdout",
     "output_type": "stream",
     "text": [
      "D[s] = -0.0, s = 0.99\n",
      "D[s] = -0.00151484039481732, s = 0.9828679365290744\n",
      "D[s] = -0.0015815361674557725, s = 0.9759077493081292\n",
      "D[s] = -0.0024533281581368836, s = 0.9650362777759466\n",
      "D[s] = -0.003278661610194425, s = 0.9506753476922069\n",
      "D[s] = -0.004528318233591128, s = 0.9308792259534275\n",
      "D[s] = -0.006110188185904072, s = 0.9042591980713058\n",
      "D[s] = -0.008171179072048658, s = 0.8687450102581824\n",
      "D[s] = -0.010725836296902314, s = 0.8222598353585989\n",
      "D[s] = -0.013759775749920522, s = 0.762827949449907\n",
      "D[s] = -0.01710590999650577, s = 0.6892779544121557\n",
      "D[s] = -0.020402265270053864, s = 0.6021048300497082\n",
      "D[s] = -0.02305644550521436, s = 0.5044709124730281\n",
      "D[s] = -0.024344477777395717, s = 0.40271552162913005\n",
      "D[s] = -0.023686326767411066, s = 0.3055847151228026\n",
      "D[s] = -0.02102508722598121, s = 0.22176466128025285\n",
      "D[s] = -0.01701152223353359, s = 0.1566976372647948\n",
      "D[s] = -0.012713621070473358, s = 0.11088559516474605\n",
      "D[s] = -0.009021131221814468, s = 0.08096487106498884\n",
      "D[s] = -0.0062870803817112126, s = 0.0622874768560473\n",
      "D[s] = -0.0044290556987612445, s = 0.05085513503475236\n",
      "D[s] = -0.003207021599252123, s = 0.04390577668466056\n",
      "D[s] = -0.002399750907701075, s = 0.03972326116968106\n",
      "D[s] = -0.0018528913395745863, s = 0.03728205363117554\n",
      "D[s] = -0.0014697905354156015, s = 0.03596923375408623\n",
      "D[s] = -0.0011919937675755078, s = 0.03541068774340839\n",
      "D[s] = -0.0009840870976323768, s = 0.03537089919955261\n",
      "D[s] = -0.0008241838967633617, s = 0.03569643532418587\n",
      "D[s] = -0.0006983673821096176, s = 0.03628389024309764\n",
      "D[s] = -0.0005975030560475382, s = 0.037061345810918245\n",
      "D[s] = -0.0005153996539963316, s = 0.03797736878576141\n",
      "D[s] = -0.00044772949472488173, s = 0.03899428949892181\n",
      "D[s] = -0.0003913800154104003, s = 0.04008397081213422\n",
      "D[s] = -0.00034405432323524537, s = 0.041225063185645006\n",
      "D[s] = -0.0003040186104914278, s = 0.04240117049839909\n",
      "D[s] = -0.00026993817599845296, s = 0.04359958925843099\n",
      "D[s] = -0.00024076816703651858, s = 0.04481041867670976\n",
      "D[s] = -0.00021567891754362709, s = 0.0460259171023385\n",
      "D[s] = -0.000194003676923228, s = 0.047240026433207016\n",
      "D[s] = -0.00017520116960402122, s = 0.04844801395205689\n",
      "D[s] = -0.00015882820428610774, s = 0.04964619819588978\n",
      "D[s] = -0.0001445192457549934, s = 0.05083173626837678\n",
      "D[s] = -0.0001319709142653097, s = 0.05200245695181749\n",
      "D[s] = -0.00012093004319649995, s = 0.053156728540730724\n",
      "D[s] = -0.00011118435474843786, s = 0.05429335338565744\n",
      "D[s] = -0.00010255509516559076, s = 0.05541148324057843\n",
      "D[s] = -9.489115942291062e-05, s = 0.056510550983058794\n",
      "D[s] = -8.806436371825209e-05, s = 0.057590215332061434\n",
      "D[s] = -8.196561323864105e-05, s = 0.05865031595838177\n",
      "D[s] = -7.650177564107346e-05, s = 0.05969083695406041\n",
      "D[s] = -7.159311595876046e-05, s = 0.06071187705791048\n",
      "D[s] = -6.717118172401704e-05, s = 0.06171362536361136\n",
      "D[s] = -6.317705164329883e-05, s = 0.06269634149155434\n",
      "D[s] = -5.9559879627621464e-05, s = 0.06366033940482763\n",
      "D[s] = -5.6275680055174695e-05, s = 0.06460597420679182\n",
      "D[s] = -5.328631099118148e-05, s = 0.06553363138254353\n",
      "D[s] = -5.0558620537053646e-05, s = 0.06644371804638305\n",
      "D[s] = -4.806372811807073e-05, s = 0.06733665583767878\n",
      "D[s] = -4.577641777500548e-05, s = 0.06821287517235486\n",
      "D[s] = -4.367462471695463e-05, s = 0.0690728106098063\n",
      "D[s] = -4.1738999756379495e-05, s = 0.06991689713781502\n",
      "D[s] = -3.9952538961052016e-05, s = 0.07074556721296787\n",
      "D[s] = -3.830026805785325e-05, s = 0.0715592484226083\n",
      "D[s] = -3.6768972914596086e-05, s = 0.0723583616577973\n",
      "D[s] = -3.5346968890519725e-05, s = 0.07314331970596144\n",
      "D[s] = -3.402390304708996e-05, s = 0.07391452618777195\n",
      "D[s] = -3.279058419932428e-05, s = 0.07467237477581112\n",
      "D[s] = -3.163883660372122e-05, s = 0.07541724864339006\n",
      "D[s] = -3.056137375421848e-05, s = 0.07614952010074294\n",
      "D[s] = -2.95516893179441e-05, s = 0.07686955038322696\n",
      "D[s] = -2.8603962708807753e-05, s = 0.07757768956222755\n",
      "D[s] = -2.7712977185600434e-05, s = 0.07827427655454233\n",
      "D[s] = -2.687404868606249e-05, s = 0.07895963921020577\n",
      "D[s] = -2.608296388052361e-05, s = 0.07963409446219771\n",
      "D[s] = -2.5335926156790407e-05, s = 0.08029794852438277\n",
      "D[s] = -2.4629508439923028e-05, s = 0.08095149712641869\n",
      "D[s] = -2.3960611912323557e-05, s = 0.08159502577637212\n",
      "D[s] = -2.3326429835683726e-05, s = 0.08222881004346116\n",
      "D[s] = -2.2724415792044795e-05, s = 0.08285311585468991\n",
      "D[s] = -2.215225575862043e-05, s = 0.08346819980032183\n",
      "D[s] = -2.160784351413431e-05, s = 0.08407430944409033\n",
      "D[s] = -2.1089258944682676e-05, s = 0.08467168363479549\n",
      "D[s] = -2.0594748877315957e-05, s = 0.08526055281666978\n",
      "D[s] = -2.012271012040739e-05, s = 0.08584113933636428\n",
      "D[s] = -1.9671674433892894e-05, s = 0.08641365774492127\n",
      "D[s] = -1.9240295189368827e-05, s = 0.08697831509342069\n",
      "D[s] = -1.882733551256926e-05, s = 0.08753531122133862\n",
      "D[s] = -1.8431657727740426e-05, s = 0.08808483903690267\n",
      "D[s] = -1.8052213947327806e-05, s = 0.08862708478890213\n",
      "D[s] = -1.768803767059434e-05, s = 0.08916222832963117\n",
      "D[s] = -1.7338236272264885e-05, s = 0.08969044336875676\n",
      "D[s] = -1.7001984277525507e-05, s = 0.09021189771801608\n",
      "D[s] = -1.6678517332645803e-05, s = 0.09072675352674575\n",
      "D[s] = -1.6367126791816566e-05, s = 0.09123516750830762\n",
      "D[s] = -1.606715485072135e-05, s = 0.09173729115756435\n",
      "D[s] = -1.577799016570028e-05, s = 0.0922332709595457\n",
      "D[s] = -1.5499063904816082e-05, s = 0.09272324858955172\n",
      "D[s] = -1.5229846183767036e-05, s = 0.09320736110488781\n",
      "D[s] = -1.4969842844708206e-05, s = 0.0936857411285359\n",
      "D[s] = -1.471859254163424e-05, s = 0.09415851702497824\n",
      "D[s] = -1.4475664099544428e-05, s = 0.09462581306848472\n",
      "D[s] = -1.4240654118912213e-05, s = 0.09508774960412891\n",
      "D[s] = -1.4013184799969841e-05, s = 0.09554444320182087\n",
      "D[s] = -1.3792901964156293e-05, s = 0.09599600680361986\n",
      "D[s] = -1.357947325296989e-05, s = 0.0964425498646303\n",
      "D[s] = -1.3372586486119914e-05, s = 0.09688417848772746\n",
      "D[s] = -1.3171948163360493e-05, s = 0.09732099555239448\n",
      "D[s] = -1.2977282095857766e-05, s = 0.09775310083791444\n",
      "D[s] = -1.2788328154374219e-05, s = 0.0981805911411806\n",
      "D[s] = -1.2604841123204165e-05, s = 0.09860356038936302\n",
      "D[s] = -1.2426589649645369e-05, s = 0.09902209974765652\n",
      "D[s] = -1.2253355280115163e-05, s = 0.09943629772234763\n",
      "D[s] = -1.2084931574779133e-05, s = 0.09984624025940791\n",
      "D[s] = -1.1921123293437971e-05, s = 0.10025201083881952\n",
      "D[s] = -1.176174564630335e-05, s = 0.10065369056483475\n",
      "D[s] = -1.1606623603555686e-05, s = 0.101051358252364\n",
      "D[s] = -1.145559125875497e-05, s = 0.10144509050965866\n",
      "D[s] = -1.1308491241020907e-05, s = 0.10183496181747831\n",
      "D[s] = -1.1165174171978078e-05, s = 0.10222104460489245\n",
      "D[s] = -1.1025498163438308e-05, s = 0.1026034093218855\n",
      "D[s] = -1.0889328352386144e-05, s = 0.10298212450891076\n",
      "D[s] = -1.0756536470123087e-05, s = 0.10335725686353137\n",
      "D[s] = -1.062700044263696e-05, s = 0.10372887130429209\n",
      "D[s] = -1.0500604019715481e-05, s = 0.10409703103194501\n",
      "D[s] = -1.0377236430310479e-05, s = 0.10446179758815644\n",
      "D[s] = -1.0256792062138408e-05, s = 0.10482323091180834\n",
      "D[s] = -1.0139170163511812e-05, s = 0.10518138939300481\n",
      "D[s] = -1.002427456559724e-05, s = 0.10553632992489892\n",
      "D[s] = -9.912013423584558e-06, s = 0.10588810795342474\n",
      "D[s] = -9.802298975191989e-06, s = 0.10623677752504534\n",
      "D[s] = -9.69504731524474e-06, s = 0.10658239133259373\n",
      "D[s] = -9.590178185040476e-06, s = 0.10692500075930933\n",
      "D[s] = -9.487614775448662e-06, s = 0.10726465592113477\n",
      "D[s] = -9.387283542592797e-06, s = 0.10760140570736432\n",
      "D[s] = -9.289114035400469e-06, s = 0.10793529781971145\n",
      "D[s] = -9.19303873387441e-06, s = 0.10826637880986378\n",
      "D[s] = -9.098992897525913e-06, s = 0.10859469411560807\n",
      "D[s] = -9.006914423166302e-06, s = 0.10892028809556398\n",
      "D[s] = -8.916743711303788e-06, s = 0.10924320406261001\n",
      "D[s] = -8.828423540719489e-06, s = 0.10956348431604646\n",
      "D[s] = -8.74189895045455e-06, s = 0.10988117017255594\n",
      "D[s] = -8.657117128839348e-06, s = 0.1101963019960096\n",
      "D[s] = -8.574027309034672e-06, s = 0.11050891922617345\n",
      "D[s] = -8.492580670599577e-06, s = 0.11081906040635581\n",
      "D[s] = -8.412730246741555e-06, s = 0.11112676321005688\n",
      "D[s] = -8.3344308368688e-06, s = 0.11143206446663079\n",
      "D[s] = -8.257638924042031e-06, s = 0.11173500018603988\n",
      "D[s] = -8.182312597022903e-06, s = 0.11203560558271564\n",
      "D[s] = -8.108411476717378e-06, s = 0.1123339150985686\n",
      "D[s] = -8.035896646527953e-06, s = 0.1126299624251823\n",
      "D[s] = -7.964730586605648e-06, s = 0.11292378052523122\n",
      "D[s] = -7.894877111547681e-06, s = 0.11321540165314958\n",
      "D[s] = -7.826301311471949e-06, s = 0.11350485737506977\n",
      "D[s] = -7.758969496190804e-06, s = 0.11379217858809709\n",
      "D[s] = -7.69284914227479e-06, s = 0.11407739553889396\n",
      "D[s] = -7.627908842922657e-06, s = 0.11436053784165179\n",
      "D[s] = -7.564118260350464e-06, s = 0.11464163449544607\n",
      "D[s] = -7.5014480806227875e-06, s = 0.11492071390100134\n",
      "D[s] = -7.439869970830704e-06, s = 0.11519780387690637\n",
      "D[s] = -7.37935653825153e-06, s = 0.11547293167527906\n",
      "D[s] = -7.319881291760765e-06, s = 0.1157461239969183\n",
      "D[s] = -7.261418604922291e-06, s = 0.1160174070059532\n",
      "D[s] = -7.203943681045786e-06, s = 0.11628680634402633\n",
      "D[s] = -7.147432519836021e-06, s = 0.11655434714399104\n",
      "D[s] = -7.091861885698152e-06, s = 0.11682005404319995\n",
      "D[s] = -7.037209277526858e-06, s = 0.11708395119632842\n",
      "D[s] = -6.983452899908636e-06, s = 0.11734606228782896\n",
      "D[s] = -6.930571635727512e-06, s = 0.1176064105439526\n",
      "D[s] = -6.8785450199624135e-06, s = 0.11786501874442101\n",
      "D[s] = -6.827353214765968e-06, s = 0.11812190923371801\n",
      "D[s] = -6.77697698565094e-06, s = 0.11837710393202394\n",
      "D[s] = -6.727397678727132e-06, s = 0.11863062434583072\n",
      "D[s] = -6.6785971990537845e-06, s = 0.11888249157820652\n",
      "D[s] = -6.630557989804841e-06, s = 0.1191327263387657\n",
      "D[s] = -6.583263012585656e-06, s = 0.11938134895332109\n",
      "D[s] = -6.53669572831125e-06, s = 0.11962837937325643\n",
      "D[s] = -6.490840079297336e-06, s = 0.1198738371845971\n",
      "D[s] = -6.445680471673113e-06, s = 0.12011774161683608\n",
      "D[s] = -6.401201759063662e-06, s = 0.12036011155147519\n",
      "D[s] = -6.357389226480639e-06, s = 0.12060096553031818\n",
      "D[s] = -6.314228575224663e-06, s = 0.1208403217635301\n",
      "D[s] = -6.27170590833372e-06, s = 0.12107819813745269\n",
      "D[s] = -6.229807716525596e-06, s = 0.12131461222218187\n",
      "D[s] = -6.1885208649348165e-06, s = 0.12154958127895521\n",
      "D[s] = -6.147832580156599e-06, s = 0.12178312226728805\n",
      "D[s] = -6.1077304380932055e-06, s = 0.12201525185194206\n",
      "D[s] = -6.068202351968542e-06, s = 0.1222459864096691\n",
      "D[s] = -6.029236561179163e-06, s = 0.12247534203577815\n",
      "D[s] = -5.990821620263746e-06, s = 0.12270333455050797\n",
      "D[s] = -5.952946388570919e-06, s = 0.12292997950523654\n",
      "D[s] = -5.9156000201861705e-06, s = 0.12315529218849464\n",
      "D[s] = -5.878771954268547e-06, s = 0.12337928763182959\n",
      "D[s] = -5.842451905850763e-06, s = 0.12360198061550765\n",
      "D[s] = -5.8066298568876926e-06, s = 0.12382338567404705\n",
      "D[s] = -5.771296047707738e-06, s = 0.12404351710161643\n",
      "D[s] = -5.736440968796553e-06, s = 0.12426238895727038\n",
      "D[s] = -5.7020553528423665e-06, s = 0.12448001507005835\n",
      "D[s] = -5.668130167147524e-06, s = 0.12469640904398704\n",
      "D[s] = -5.634656606304618e-06, s = 0.12491158426285287\n",
      "D[s] = -5.6016260850570895e-06, s = 0.12512555389494318\n"
     ]
    }
   ],
   "source": [
    "# Try SEIRD model\n",
    "alpha = 0.95\n",
    "beta = 0.25\n",
    "sigma = 0.13\n",
    "gam = 0.052\n",
    "mu = 0.005\n",
    "t0 = 0\n",
    "tf = 1000\n",
    "num_step = 200\n",
    "y0 = np.array([0.99, 0.01, 0, 0, 0])\n",
    "\n",
    "f = lambda t, y: np.array([\n",
    "    - beta * (y[0] * y[2]) / (1 - y[4]),\n",
    "    beta * (y[0] * y[2]) / (1 - y[4]) - sigma * y[1],\n",
    "    sigma * y[1] - (gam + mu) * y[2],\n",
    "    gam * y[2],\n",
    "    mu * y[2]\n",
    "])\n",
    "\n",
    "ts, ys = caputo_euler(f, alpha, (t0, tf), num_step, y0)"
   ]
  },
  {
   "cell_type": "code",
   "execution_count": 14,
   "id": "82eab45f-0405-4049-8ffb-d89cf7eb3a40",
   "metadata": {},
   "outputs": [
    {
     "data": {
      "text/plain": [
       "<matplotlib.legend.Legend at 0x16b6a4e10>"
      ]
     },
     "execution_count": 14,
     "metadata": {},
     "output_type": "execute_result"
    },
    {
     "data": {
      "image/png": "[encoded data removed]",
      "text/plain": [
       "<Figure size 640x480 with 1 Axes>"
      ]
     },
     "metadata": {},
     "output_type": "display_data"
    }
   ],
   "source": [
    "fig, ax = plt.subplots()\n",
    "ax.plot(ts, ys[:, 0], label='s')\n",
    "ax.plot(ts, ys[:, 1], label='e')\n",
    "ax.plot(ts, ys[:, 2], label='i')\n",
    "ax.plot(ts, ys[:, 3], label='r')\n",
    "ax.plot(ts, ys[:, 4], label='d')\n",
    "ax.legend()"
   ]
  },
  {
   "cell_type": "code",
   "execution_count": 15,
   "id": "65875c1b-6a83-4ee1-85ea-1c0478336c5c",
   "metadata": {},
   "outputs": [
    {
     "data": {
      "text/plain": [
       "<matplotlib.legend.Legend at 0x16b731f90>"
      ]
     },
     "execution_count": 15,
     "metadata": {},
     "output_type": "execute_result"
    },
    {
     "data": {
      "image/png": "[encoded data removed]",
      "text/plain": [
       "<Figure size 640x480 with 1 Axes>"
      ]
     },
     "metadata": {},
     "output_type": "display_data"
    }
   ],
   "source": [
    "# Check derivatives\n",
    "fv = np.vectorize(f, signature='(),(5)->(5)')\n",
    "fs = fv(ts, ys)\n",
    "\n",
    "fs_num = caputo_l1_diff(ys, alpha, dt=(tf - t0) / num_step)\n",
    "\n",
    "fig, ax = plt.subplots()\n",
    "ax.plot(ts, fs[:, 0], label='fs')\n",
    "ax.plot(ts, fs[:, 1], label='fe')\n",
    "ax.plot(ts, fs[:, 2], label='fi')\n",
    "ax.plot(ts, fs[:, 3], label='fr')\n",
    "ax.plot(ts, fs[:, 4], label='fd')\n",
    "ax.plot(ts, fs_num[:, 0], label='Ds')\n",
    "ax.plot(ts, fs_num[:, 1], label='De')\n",
    "ax.plot(ts, fs_num[:, 2], label='Di')\n",
    "ax.plot(ts, fs_num[:, 3], label='Dr')\n",
    "ax.plot(ts, fs_num[:, 4], label='Dd')\n",
    "ax.legend()"
   ]
  },
  {
   "cell_type": "code",
   "execution_count": null,
   "id": "5e4031f7-84ab-4fa7-82f0-5b27e465c4a4",
   "metadata": {
    "scrolled": true
   },
   "outputs": [],
   "source": [
    "# Error convergence study\n",
    "alpha = 0.9\n",
    "beta = 0.25\n",
    "sigma = 0.13\n",
    "gam = 0.052\n",
    "mu = 0.005\n",
    "t0 = 0\n",
    "tf = 500\n",
    "num_steps = [100, 200, 400, 800, 1600]\n",
    "errs = []\n",
    "y0 = np.array([0.99, 0.01, 0, 0, 0])\n",
    "\n",
    "tss = []\n",
    "yss = []\n",
    "\n",
    "f = lambda t, y: np.array([\n",
    "    - beta * (y[0] * y[2]) / (1 - y[4]),\n",
    "    beta * (y[0] * y[2]) / (1 - y[4]) - sigma * y[1],\n",
    "    sigma * y[1] - (gam + mu) * y[2],\n",
    "    gam * y[2],\n",
    "    mu * y[2]\n",
    "])\n",
    "\n",
    "# Ground truth\n",
    "ts_coarse = np.linspace(t0, tf, 101)\n",
    "ts_true, ys_true = caputo_euler(f, alpha, (t0, tf), 3200, y0)\n",
    "tss.append(ts_true)\n",
    "yss.append(ys_true)\n",
    "interp_func = lambda fp_slice: np.interp(ts_coarse, ts_true, fp_slice)\n",
    "ys_true = np.apply_along_axis(interp_func, 0, ys_true)\n",
    "\n",
    "i = 0\n",
    "for num_step in num_steps:\n",
    "    ts, ys = caputo_euler(f, alpha, (t0, tf), num_step, y0)\n",
    "    tss.append(ts)\n",
    "    yss.append(ys)\n",
    "    interp_func = lambda fp_slice: np.interp(ts_coarse, ts, fp_slice)\n",
    "    ys = np.apply_along_axis(interp_func, 0, ys)\n",
    "    errs.append(sum([np.trapezoid((ys[:, i] - ys_true[:, i]) ** 2, x=ts_coarse) for i in range(5)]) ** 0.5)\n",
    "    i += 1"
   ]
  },
  {
   "cell_type": "code",
   "execution_count": null,
   "id": "0bba7fbd-5ab1-42db-8ccf-5bab59838797",
   "metadata": {},
   "outputs": [],
   "source": [
    "# Plot solutions\n",
    "fig, ax = plt.subplots(2, 3, figsize=(12, 8))\n",
    "labels = ['Full System', 's', 'e', 'i', 'r', 'd']\n",
    "labels2 = ['3200', '100', '200', '400', '800', '1600']\n",
    "\n",
    "# High-accuracy solution\n",
    "for i in range(5):\n",
    "    ax[0, 0].plot(tss[0], yss[0][:, i], label=labels[i + 1])\n",
    "\n",
    "for j in range(len(tss)):\n",
    "    for i in range(5):\n",
    "        ax[(i + 1) // 3, (i + 1) % 3].plot(tss[j], yss[j][:, i], label=labels2[j])\n",
    "\n",
    "for i in range(6):\n",
    "    ax[i // 3, i % 3].set_title(labels[i])\n",
    "    ax[i // 3, i % 3].legend(title=('state' if i == 0 else 'steps'))"
   ]
  },
  {
   "cell_type": "code",
   "execution_count": null,
   "id": "59e87240-09f2-42ae-a08e-d57c0a890698",
   "metadata": {},
   "outputs": [],
   "source": [
    "fig, ax = plt.subplots()\n",
    "ns = np.linspace(100, 200, 11)\n",
    "ax.loglog(num_steps, errs, label='L2 error')\n",
    "ax.loglog(ns, [40 / n ** alpha for n in ns], label='O(h ^ alpha)')\n",
    "ax.loglog(ns, [50 / n for n in ns], label='O(h)')\n",
    "ax.set_xlabel('1 / h')\n",
    "ax.set_ylabel('error')\n",
    "ax.legend()"
   ]
  },
  {
   "cell_type": "markdown",
   "id": "7437aca2-d7a8-4d61-9343-27f9d5d7185e",
   "metadata": {},
   "source": [
    "## Toeplitz Matrix Generation"
   ]
  },
  {
   "cell_type": "code",
   "execution_count": null,
   "id": "ea04ae11-6817-4367-ba16-d5464dba9c94",
   "metadata": {},
   "outputs": [],
   "source": [
    "# Credit Google Gemini\n",
    "def toeplitz(c, r):\n",
    "    \"\"\"\n",
    "    Creates a Toeplitz matrix from a given first column (c) and first row (r).\n",
    "\n",
    "    Args:\n",
    "        c (torch.Tensor): A 1D tensor representing the first column of the Toeplitz matrix.\n",
    "        r (torch.Tensor): A 1D tensor representing the first row of the Toeplitz matrix.\n",
    "                          The first element of r should be equal to the first element of c.\n",
    "\n",
    "    Returns:\n",
    "        torch.Tensor: The constructed Toeplitz matrix.\n",
    "    \"\"\"\n",
    "    if c[0] != r[0]:\n",
    "        raise ValueError(\"The first element of 'c' and 'r' must be the same.\")\n",
    "\n",
    "    vals = torch.cat((r, c[1:].flip(0)))\n",
    "    shape = len(c), len(r)\n",
    "    i, j = torch.ones(*shape).nonzero().T\n",
    "    return vals[j - i].reshape(*shape)"
   ]
  },
  {
   "cell_type": "code",
   "execution_count": null,
   "id": "dded6505-c725-4350-9196-6be92bd86a70",
   "metadata": {},
   "outputs": [],
   "source": [
    "# Example usage:\n",
    "c = torch.tensor([1.0, 2.0, 3.0, 4.0])\n",
    "r = torch.tensor([1.0, 0.0, 0.0, 0.0])\n",
    "\n",
    "toeplitz_matrix = toeplitz(c, r)\n",
    "print(toeplitz_matrix)"
   ]
  },
  {
   "cell_type": "code",
   "execution_count": null,
   "id": "1e76fc26-50d9-49d2-908b-8aff8b1f2e3f",
   "metadata": {},
   "outputs": [],
   "source": [
    "# Understanding function\n",
    "vals = torch.cat((r, c[1:].flip(0)))\n",
    "vals"
   ]
  },
  {
   "cell_type": "code",
   "execution_count": null,
   "id": "c6d3131b-30b9-4152-88bd-326b78f7b363",
   "metadata": {},
   "outputs": [],
   "source": [
    "shape = len(c), len(r)\n",
    "shape"
   ]
  },
  {
   "cell_type": "code",
   "execution_count": null,
   "id": "c7de6f2d-366b-4ca3-8dc0-f302fc4e482e",
   "metadata": {},
   "outputs": [],
   "source": [
    "o = torch.ones(*shape)\n",
    "o"
   ]
  },
  {
   "cell_type": "code",
   "execution_count": null,
   "id": "9fc904f2-f25d-416c-8cff-6d1e25b410e8",
   "metadata": {},
   "outputs": [],
   "source": [
    "o = o.nonzero()\n",
    "o # Set of all matrix indices"
   ]
  },
  {
   "cell_type": "code",
   "execution_count": null,
   "id": "c3d4ed67-5570-4879-84cc-df7120f24284",
   "metadata": {},
   "outputs": [],
   "source": [
    "o = o.T\n",
    "o # Get all rows, cols for matrix (in order)"
   ]
  },
  {
   "cell_type": "code",
   "execution_count": null,
   "id": "660dbffc-74ef-4ada-9cd4-cc7121aff322",
   "metadata": {},
   "outputs": [],
   "source": [
    "i, j = o\n",
    "j - i # j - i for each aij (in order)"
   ]
  },
  {
   "cell_type": "code",
   "execution_count": null,
   "id": "23a4166a-d171-4899-a3aa-576c179a0ef8",
   "metadata": {},
   "outputs": [],
   "source": [
    "A = vals[j - i]\n",
    "A # Draw corresponding vals (in order)"
   ]
  },
  {
   "cell_type": "code",
   "execution_count": null,
   "id": "03e05841-f89e-4476-a91b-b0e80a510faa",
   "metadata": {},
   "outputs": [],
   "source": [
    "A = A.reshape(*shape)\n",
    "A # Push into matrix shape (keeping order)"
   ]
  },
  {
   "cell_type": "markdown",
   "id": "d010dffb-2094-4598-9d69-827fc80c31c4",
   "metadata": {},
   "source": [
    "## Test Pytorch Caputo L1 Differentiation"
   ]
  },
  {
   "cell_type": "code",
   "execution_count": null,
   "id": "dd144a3e-5057-4a65-8a44-0cf32681c57b",
   "metadata": {},
   "outputs": [],
   "source": [
    "def torch_caputo_l1_diff(psis, alpha, dt=1.0, ts=None):\n",
    "    \"\"\"Compute approximate Caputo fractional derivative using the L1 scheme.\n",
    "\n",
    "    Args:\n",
    "        psi (torch.tensor): A series of function values. In agreement with pytorch machine learning conventions, this tensor is two-dimensional, and the first dimension corresponds to the dependent variable.\n",
    "        alpha (float): The order of the derivative, in the range (0.0, 1.0].\n",
    "        dt=1.0 (float): If the corresponding dependent variable series is not provided, the uniform step size between function evaluations.\n",
    "        ts=None (np.ndarray): The corresponding dependent variable series, used if there is a variable step size.\n",
    "\n",
    "    Returns:\n",
    "        An torch.tensor containing the series of fractional derivatives.\n",
    "    \"\"\"\n",
    "    psips = torch.zeros(psis.shape, dtype=psis.dtype, device=psis.device)\n",
    "    C = dt ** (-alpha) / torch.exp(torch.lgamma(torch.tensor(2.0 - alpha, dtype=psis.dtype, device=psis.device)))\n",
    "    dpsis = psis[1:, :] - psis[:-1, :]\n",
    "    if ts is None:\n",
    "        rs = torch.arange(psis.shape[0] - 1, dtype=psis.dtype, device=psis.device)\n",
    "        ws = (rs + 1) ** (1.0 - alpha) - rs ** (1.0 - alpha)\n",
    "        row = torch.zeros(psis.shape[0] - 1, dtype=psis.dtype, device=psis.device)\n",
    "        row[0] = ws[0] # Lower triangular matrix\n",
    "        A = toeplitz(ws, row)\n",
    "        psips[1:, :] = C * A @ dpsis\n",
    "    else:\n",
    "        raise NotImplementedError('Variable time step differentiation not yet implemented!')\n",
    "    return psips"
   ]
  },
  {
   "cell_type": "code",
   "execution_count": null,
   "id": "8a6df122-e52d-49c4-9bb6-b6cc271d1733",
   "metadata": {},
   "outputs": [],
   "source": [
    "# Test power of a function\n",
    "alpha = 0.6\n",
    "b = 3\n",
    "t0 = 0\n",
    "tf = 1\n",
    "num_step = 1000\n",
    "y0 = 0\n",
    "\n",
    "f = lambda t, y, alpha=alpha, b=b: gamma(b + 1) / gamma(b - alpha + 1) * (t ** (b - alpha) - t0 ** (b - alpha))\n",
    "\n",
    "# Integrate\n",
    "ts, ys = caputo_euler(f, alpha, (t0, tf), num_step, y0)\n",
    "ts = torch.from_numpy(ts).float().unsqueeze(1)\n",
    "ys = torch.from_numpy(ys).float().unsqueeze(1)\n",
    "\n",
    "# Now derivative\n",
    "fps = torch_caputo_l1_diff(ys, alpha, dt=0.001)\n",
    "fig, ax = plt.subplots()\n",
    "ax.plot(ts, np.vectorize(f)(ts, ys), label='exact')\n",
    "ax.plot(ts, fps, label='numerical', ls='--')\n",
    "ax.legend()"
   ]
  },
  {
   "cell_type": "code",
   "execution_count": null,
   "id": "15a130c8-01b1-473d-99e7-42e17e7751ab",
   "metadata": {},
   "outputs": [],
   "source": []
  }
 ],
 "metadata": {
  "kernelspec": {
   "display_name": "sciml-env",
   "language": "python",
   "name": "sciml-env"
  },
  "language_info": {
   "codemirror_mode": {
    "name": "ipython",
    "version": 3
   },
   "file_extension": ".py",
   "mimetype": "text/x-python",
   "name": "python",
   "nbconvert_exporter": "python",
   "pygments_lexer": "ipython3",
   "version": "3.13.7"
  }
 },
 "nbformat": 4,
 "nbformat_minor": 5
}
